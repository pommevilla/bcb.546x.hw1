{
 "cells": [
  {
   "cell_type": "markdown",
   "metadata": {},
   "source": [
    "# Data Inspection \n",
    "\n",
    "Before we begin working with the two files, let's get a handle on how they're structured.\n",
    "\n",
    "## `snp_position.txt`\n",
    "\n",
    "`snp_position.txt` has 984 lines:"
   ]
  },
  {
   "cell_type": "code",
   "execution_count": 16,
   "metadata": {},
   "outputs": [
    {
     "name": "stdout",
     "output_type": "stream",
     "text": [
      "     984 snp_position.txt\n"
     ]
    }
   ],
   "source": [
    "wc -l snp_position.txt"
   ]
  },
  {
   "cell_type": "markdown",
   "metadata": {},
   "source": [
    "There are 15 columns in this file:"
   ]
  },
  {
   "cell_type": "code",
   "execution_count": 17,
   "metadata": {},
   "outputs": [
    {
     "name": "stdout",
     "output_type": "stream",
     "text": [
      "15\n"
     ]
    }
   ],
   "source": [
    "head -1 snp_position.txt | awk '{print NF}'"
   ]
  },
  {
   "cell_type": "markdown",
   "metadata": {},
   "source": [
    "This file is 81k big:"
   ]
  },
  {
   "cell_type": "code",
   "execution_count": 18,
   "metadata": {},
   "outputs": [
    {
     "name": "stdout",
     "output_type": "stream",
     "text": [
      "81K\n"
     ]
    }
   ],
   "source": [
    "ls -lh snp_position.txt | awk '{ print $5 }'"
   ]
  },
  {
   "cell_type": "markdown",
   "metadata": {},
   "source": [
    "## `fang_et_al_genotypes.txt`\n",
    "\n",
    "`fang_et_al_genotypes.txt` has 2783 lines:"
   ]
  },
  {
   "cell_type": "code",
   "execution_count": 19,
   "metadata": {},
   "outputs": [
    {
     "name": "stdout",
     "output_type": "stream",
     "text": [
      "    2783 fang_et_al_genotypes.txt\n"
     ]
    }
   ],
   "source": [
    "wc -l fang_et_al_genotypes.txt"
   ]
  },
  {
   "cell_type": "markdown",
   "metadata": {},
   "source": [
    "There are 986 columns in this file:"
   ]
  },
  {
   "cell_type": "code",
   "execution_count": 20,
   "metadata": {},
   "outputs": [
    {
     "name": "stdout",
     "output_type": "stream",
     "text": [
      "986\n"
     ]
    }
   ],
   "source": [
    "head -1 fang_et_al_genotypes.txt | awk '{print NF}'"
   ]
  },
  {
   "cell_type": "markdown",
   "metadata": {},
   "source": [
    "This file is 11M big:"
   ]
  },
  {
   "cell_type": "code",
   "execution_count": 21,
   "metadata": {},
   "outputs": [
    {
     "name": "stdout",
     "output_type": "stream",
     "text": [
      "11M\n"
     ]
    }
   ],
   "source": [
    "ls -lh fang_et_al_genotypes.txt | awk '{ print $5 }'"
   ]
  },
  {
   "cell_type": "markdown",
   "metadata": {},
   "source": [
    "Here is a count of entries per genotype:"
   ]
  },
  {
   "cell_type": "code",
   "execution_count": 53,
   "metadata": {},
   "outputs": [
    {
     "name": "stdout",
     "output_type": "stream",
     "text": [
      "   1 Group\n",
      "  22 TRIPS\n",
      "  15 ZDIPL\n",
      "  17 ZLUXR\n",
      "  10 ZMHUE\n",
      " 290 ZMMIL\n",
      "1256 ZMMLR\n",
      "  27 ZMMMR\n",
      " 900 ZMPBA\n",
      "  41 ZMPIL\n",
      "  34 ZMPJA\n",
      "  75 ZMXCH\n",
      "  69 ZMXCP\n",
      "   6 ZMXIL\n",
      "   7 ZMXNO\n",
      "   4 ZMXNT\n",
      "   9 ZPERR\n"
     ]
    }
   ],
   "source": [
    "cat fang_et_al_genotypes.txt | cut -f 3 | sort | uniq -c"
   ]
  },
  {
   "cell_type": "markdown",
   "metadata": {},
   "source": [
    "# Data Processing\n",
    "\n"
   ]
  },
  {
   "cell_type": "markdown",
   "metadata": {},
   "source": [
    "We first begin by making separate directories for maize and teosinte data.  We'll also make an additional directory to keep our raw data in and move the `snp_position.txt` and `fang_et_al_genotypes.txt` into it."
   ]
  },
  {
   "cell_type": "code",
   "execution_count": 26,
   "metadata": {},
   "outputs": [],
   "source": [
    "mkdir maize teosinte raw\n",
    "mv snp_position.txt fang_et_al_genotypes.txt raw"
   ]
  },
  {
   "cell_type": "markdown",
   "metadata": {},
   "source": [
    "We'll start working with the maize data first.  We begin by extracting all the maize genotype information and saving it to `maize_genotypes.txt`:"
   ]
  },
  {
   "cell_type": "code",
   "execution_count": 64,
   "metadata": {},
   "outputs": [
    {
     "name": "stdout",
     "output_type": "stream",
     "text": [
      "bash: cd: maize: No such file or directory\n"
     ]
    }
   ],
   "source": [
    "cd maize\n",
    "awk '$3~/ZMMIL|ZMMLR|ZMMMR/' ../raw/fang_et_al_genotypes.txt > maize_genotypes.txt"
   ]
  },
  {
   "cell_type": "markdown",
   "metadata": {},
   "source": [
    "As a sanity check, we'll see how many genotypes are in `maize_genotypes.txt`:"
   ]
  },
  {
   "cell_type": "code",
   "execution_count": 65,
   "metadata": {},
   "outputs": [
    {
     "name": "stdout",
     "output_type": "stream",
     "text": [
      "    1573 maize_genotypes.txt\n"
     ]
    }
   ],
   "source": [
    "wc -l maize_genotypes.txt"
   ]
  },
  {
   "cell_type": "markdown",
   "metadata": {},
   "source": [
    "There are 1573 genotypes, and this agrees with the sum of the number of `ZMMIL`, `ZMMLR`, and `ZMMMR` genotypes in `fang_et_al_genotypes.txt`.  \n",
    "\n",
    "Before we transpose the `maize_genotypes.txt` in preparation for `join`ing it with `snp_position.txt`, we will prepend the header from `fang_et_al_genotypes.txt` to it.  Unfortunately, this requires the creation of an intermediate file, but `sed` wasn't being a pain in the ass."
   ]
  },
  {
   "cell_type": "code",
   "execution_count": 66,
   "metadata": {},
   "outputs": [
    {
     "name": "stdout",
     "output_type": "stream",
     "text": [
      "    1574 maize_genotypes.txt\n"
     ]
    }
   ],
   "source": [
    "head -1 ../raw/fang_et_al_genotypes.txt | cat - maize_genotypes.txt > temp\n",
    "mv temp maize_genotypes.txt\n",
    "wc -l maize_genotypes.txt"
   ]
  },
  {
   "cell_type": "markdown",
   "metadata": {},
   "source": [
    "We then use the provided `transpose.awk` script to transpose the genotype data:"
   ]
  },
  {
   "cell_type": "code",
   "execution_count": 61,
   "metadata": {},
   "outputs": [],
   "source": [
    "awk -f ../transpose.awk maize_genotypes.txt > transposed_maize_genotypes.txt"
   ]
  },
  {
   "cell_type": "markdown",
   "metadata": {},
   "source": [
    "We will now merge `transposed_maize_genotypes.txt` and `SNP_ID`.  The merge will be performed on the `Sample_ID` field in `transposed_maize_genotypes.txt` and the `SNP_ID` field in `snp_position.txt`.  As directed in the instructions, bthe merged files first three columns will be `SNP_ID`, `Chromosome`, and `Position`, then all of the remaining columns from `feng_et_al_genotypes.txt`.  "
   ]
  },
  {
   "cell_type": "code",
   "execution_count": null,
   "metadata": {},
   "outputs": [],
   "source": [
    "join -o 1.1,1.3,1.4 -o \"$(echo 2.{2..1574})\" -t $'\\t' \\\n",
    "    <(sort -k1 ../raw/snp_position.txt) \\\n",
    "    <(sort -k1 transposed_maize_genotypes.txt) \\\n",
    "    > merged_maize_genotypes.txt"
   ]
  },
  {
   "cell_type": "markdown",
   "metadata": {},
   "source": [
    "Some explanation:\n",
    "\n",
    "   * The `-o` argument specifies which columns will be kept in the final merged table.  `1.1` refers to the first column from file 1, `1.2` the second column from file 2, etc.   The second `-o` argument specifies that we want all the remaining columns from file 2, save for the first column (since we already specfied it with `1.1`.\n",
    "   * The default output delimiter is a space; we switch the delimiting character to tab via the `-t $'\\t'` argument so that the data plays nicely later.\n",
    "   * `join` requires that the two files to be joined be sorted.  We sort the files in place by using the `<(sort ...)` syntax.  \n",
    "    \n",
    "We'll now add the header back into the file:"
   ]
  },
  {
   "cell_type": "code",
   "execution_count": 92,
   "metadata": {},
   "outputs": [],
   "source": [
    "cat <(head -1 ../raw/snp_position.txt | cut -f 1,3,4 | tr '\\n' '\\t') \\\n",
    "    <(head -1 transposed_maize_genotypes.txt | cut -f 2-1574) | cat - merged_maize_genotypes.txt > temp \n",
    "mv temp merged_maize_genotypes.txt"
   ]
  },
  {
   "cell_type": "markdown",
   "metadata": {},
   "source": [
    "We'll make two separate directories for the chromosome sorted by increasing and decreasing position:"
   ]
  },
  {
   "cell_type": "markdown",
   "metadata": {},
   "source": [
    "We'll first take a look at `merged_maize_genotypes.txt` to see how many entries there are for each chromosome:"
   ]
  },
  {
   "cell_type": "code",
   "execution_count": 94,
   "metadata": {},
   "outputs": [
    {
     "name": "stdout",
     "output_type": "stream",
     "text": [
      " 155 1\n",
      "  53 10\n",
      " 127 2\n",
      " 107 3\n",
      "  91 4\n",
      " 122 5\n",
      "  76 6\n",
      "  97 7\n",
      "  62 8\n",
      "  60 9\n",
      "   1 Chromosome\n",
      "   6 multiple\n",
      "  27 unknown\n"
     ]
    }
   ],
   "source": [
    "cat merged_maize_genotypes.txt | cut -f 2 | sort | uniq -c"
   ]
  },
  {
   "cell_type": "markdown",
   "metadata": {},
   "source": [
    "After we separate each of the entries into separate files by chromosome, we expect there to be 950 total entries for chromosomes 1 through 10, 6 entries with multiple positions, and 27 for unknown positions.  \n",
    "\n",
    "Before we separate the entries by chromosome, let's make a directory to hold all of the files that will be sorted in increasing order:"
   ]
  },
  {
   "cell_type": "code",
   "execution_count": 97,
   "metadata": {},
   "outputs": [],
   "source": [
    "mkdir sorted_inc_pos"
   ]
  },
  {
   "cell_type": "markdown",
   "metadata": {},
   "source": [
    "We can grab all the entries for chromosome 1 and store them in `chromosome_1_sort_inc.txt` by using `awk`:"
   ]
  },
  {
   "cell_type": "code",
   "execution_count": 112,
   "metadata": {},
   "outputs": [
    {
     "name": "stdout",
     "output_type": "stream",
     "text": [
      "     155 ./sorted_inc_pos/chromosome_1_sort_inc.txt\n"
     ]
    }
   ],
   "source": [
    "awk -F '\\t' '$2==1' merged_maize_genotypes.txt > ./sorted_inc_pos/chromosome_1_sort_inc.txt\n",
    "wc -l ./sorted_inc_pos/chromosome_1_sort_inc.txt"
   ]
  },
  {
   "cell_type": "markdown",
   "metadata": {},
   "source": [
    "We see that there is 155 entries, matching the the number we found above when `grep`-ing `merged_maize_genotypes.txt`.  \n",
    "\n",
    "We'll now sort `chromosome_1_sort_inc.txt` on `Position`:"
   ]
  },
  {
   "cell_type": "code",
   "execution_count": 113,
   "metadata": {},
   "outputs": [],
   "source": [
    "sort -o ./sorted_inc_pos/chromosome_1_sort_inc.txt \\\n",
    "    -nk3 ./sorted_inc_pos/chromosome_1_sort_inc.txt"
   ]
  },
  {
   "cell_type": "code",
   "execution_count": 106,
   "metadata": {},
   "outputs": [],
   "source": [
    "for i in {1..10}\n",
    "do\n",
    "    awk -F '\\t' -v chrom=$i '$2==$chrom' merged_maize_genotypes.txt \\\n",
    "    > ./sorted_inc_pos/chrom_${i}_inc_pos.txt\n",
    "done"
   ]
  },
  {
   "cell_type": "code",
   "execution_count": null,
   "metadata": {},
   "outputs": [],
   "source": []
  }
 ],
 "metadata": {
  "kernelspec": {
   "display_name": "Bash",
   "language": "bash",
   "name": "bash"
  },
  "language_info": {
   "codemirror_mode": "shell",
   "file_extension": ".sh",
   "mimetype": "text/x-sh",
   "name": "bash"
  }
 },
 "nbformat": 4,
 "nbformat_minor": 2
}
